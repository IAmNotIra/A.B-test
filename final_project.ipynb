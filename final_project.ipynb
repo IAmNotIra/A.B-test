{
 "cells": [
  {
   "cell_type": "markdown",
   "metadata": {},
   "source": [
    "## Задание 1. A/B–тестирование\n",
    "### 1.1 Условие\n",
    "\n",
    "Одной из основных задач аналитика в нашей команде является корректное проведение экспериментов. Для этого мы применяем метод A/B–тестирования. В ходе тестирования одной гипотезы целевой группе была предложена новая механика оплаты услуг на сайте, у контрольной группы оставалась базовая механика. В качестве задания Вам необходимо проанализировать итоги эксперимента и сделать вывод, стоит ли запускать новую механику оплаты на всех пользователей."
   ]
  },
  {
   "cell_type": "markdown",
   "metadata": {},
   "source": [
    "### 1.2 Входные данные\n",
    "В качестве входных данных Вы имеете 4 csv-файла:\n",
    "* ***groups.csv*** - файл с информацией о принадлежности пользователя к контрольной или экспериментальной группе (А – контроль, B – целевая группа) \n",
    "* ***groups_add.csv*** - дополнительный файл с пользователями, который вам прислали спустя 2 дня после передачи данных\n",
    "* ***active_studs.csv*** - файл с информацией о пользователях, которые зашли на платформу в дни проведения эксперимента\n",
    "* ***checks.csv*** - файл с информацией об оплатах пользователей в дни проведения эксперимента"
   ]
  },
  {
   "cell_type": "markdown",
   "metadata": {},
   "source": [
    "### 1.3 Вопросы\n",
    "\n",
    "Предлагаем Вам ответить на следующие вопросы:\n",
    "\n",
    "* На какие метрики Вы смотрите в ходе анализа и почему?\n",
    "* Имеются ли различия в показателях и с чем они могут быть связаны?\n",
    "* Являются ли эти различия статистически значимыми?\n",
    "* Стоит ли запускать новую механику на всех пользователей?"
   ]
  },
  {
   "cell_type": "code",
   "execution_count": 1,
   "metadata": {},
   "outputs": [],
   "source": [
    "import pandas as pd\n",
    "import matplotlib.pyplot as plt\n",
    "import seaborn as sns\n",
    "%matplotlib inline\n",
    "plt.style.use('ggplot')\n",
    "from scipy import stats\n",
    "from scipy.stats import ttest_ind, chi2_contingency\n",
    "import pandahouse as ph"
   ]
  },
  {
   "cell_type": "markdown",
   "metadata": {},
   "source": [
    "## EDA"
   ]
  },
  {
   "cell_type": "code",
   "execution_count": 2,
   "metadata": {},
   "outputs": [],
   "source": [
    "group = pd.read_csv('~/ilina_ira/groups.csv', sep=';')\n",
    "groups_add = pd.read_csv('~/ilina_ira/group_add.csv')\n",
    "active_studs = pd.read_csv('~/ilina_ira/active_studs.csv')\n",
    "checks = pd.read_csv('~/ilina_ira/checks.csv', sep=';')"
   ]
  },
  {
   "cell_type": "code",
   "execution_count": 3,
   "metadata": {},
   "outputs": [],
   "source": [
    "def showing(data):\n",
    "    print(data.head(3))\n",
    "    print()\n",
    "    print(data.info())\n",
    "    print()\n",
    "    print('Количество уникальных значений: ', data.nunique())\n",
    "    print('Количество дубликатов: ', data.duplicated().sum())\n",
    "    print('Количество пропусков: ', data.isnull().sum())"
   ]
  },
  {
   "cell_type": "code",
   "execution_count": 4,
   "metadata": {},
   "outputs": [
    {
     "name": "stdout",
     "output_type": "stream",
     "text": [
      "group\n",
      "\n",
      "     id grp\n",
      "0  1489   B\n",
      "1  1627   A\n",
      "2  1768   B\n",
      "\n",
      "<class 'pandas.core.frame.DataFrame'>\n",
      "RangeIndex: 74484 entries, 0 to 74483\n",
      "Data columns (total 2 columns):\n",
      " #   Column  Non-Null Count  Dtype \n",
      "---  ------  --------------  ----- \n",
      " 0   id      74484 non-null  int64 \n",
      " 1   grp     74484 non-null  object\n",
      "dtypes: int64(1), object(1)\n",
      "memory usage: 1.1+ MB\n",
      "None\n",
      "\n",
      "Количество уникальных значений:  id     74484\n",
      "grp        2\n",
      "dtype: int64\n",
      "Количество дубликатов:  0\n",
      "Количество пропусков:  id     0\n",
      "grp    0\n",
      "dtype: int64\n",
      "\n",
      "groups_add\n",
      "\n",
      "        id grp\n",
      "0  5694584   B\n",
      "1  5694830   B\n",
      "2  5695057   B\n",
      "\n",
      "<class 'pandas.core.frame.DataFrame'>\n",
      "RangeIndex: 92 entries, 0 to 91\n",
      "Data columns (total 2 columns):\n",
      " #   Column  Non-Null Count  Dtype \n",
      "---  ------  --------------  ----- \n",
      " 0   id      92 non-null     int64 \n",
      " 1   grp     92 non-null     object\n",
      "dtypes: int64(1), object(1)\n",
      "memory usage: 1.6+ KB\n",
      "None\n",
      "\n",
      "Количество уникальных значений:  id     92\n",
      "grp     2\n",
      "dtype: int64\n",
      "Количество дубликатов:  0\n",
      "Количество пропусков:  id     0\n",
      "grp    0\n",
      "dtype: int64\n",
      "\n",
      "active_studs\n",
      "\n",
      "   student_id\n",
      "0      581585\n",
      "1     5723133\n",
      "2     3276743\n",
      "\n",
      "<class 'pandas.core.frame.DataFrame'>\n",
      "RangeIndex: 8341 entries, 0 to 8340\n",
      "Data columns (total 1 columns):\n",
      " #   Column      Non-Null Count  Dtype\n",
      "---  ------      --------------  -----\n",
      " 0   student_id  8341 non-null   int64\n",
      "dtypes: int64(1)\n",
      "memory usage: 65.3 KB\n",
      "None\n",
      "\n",
      "Количество уникальных значений:  student_id    8341\n",
      "dtype: int64\n",
      "Количество дубликатов:  0\n",
      "Количество пропусков:  student_id    0\n",
      "dtype: int64\n",
      "\n",
      "checks\n",
      "\n",
      "   student_id    rev\n",
      "0        1627  990.0\n",
      "1        3185  690.0\n",
      "2       25973  690.0\n",
      "\n",
      "<class 'pandas.core.frame.DataFrame'>\n",
      "RangeIndex: 541 entries, 0 to 540\n",
      "Data columns (total 2 columns):\n",
      " #   Column      Non-Null Count  Dtype  \n",
      "---  ------      --------------  -----  \n",
      " 0   student_id  541 non-null    int64  \n",
      " 1   rev         541 non-null    float64\n",
      "dtypes: float64(1), int64(1)\n",
      "memory usage: 8.6 KB\n",
      "None\n",
      "\n",
      "Количество уникальных значений:  student_id    541\n",
      "rev            39\n",
      "dtype: int64\n",
      "Количество дубликатов:  0\n",
      "Количество пропусков:  student_id    0\n",
      "rev           0\n",
      "dtype: int64\n"
     ]
    }
   ],
   "source": [
    "print('group')\n",
    "print()\n",
    "showing(group)\n",
    "print()\n",
    "print('groups_add')\n",
    "print()\n",
    "showing(groups_add)\n",
    "print()\n",
    "print('active_studs')\n",
    "print()\n",
    "showing(active_studs)\n",
    "print()\n",
    "print('checks')\n",
    "print()\n",
    "showing(checks)"
   ]
  },
  {
   "cell_type": "markdown",
   "metadata": {},
   "source": [
    "Все id уникальны, две группы - как и должно быть, нет повторяющихся значений и пропусков, и всего 39 уникальных платежа. Скорее всего на платформе есть определенные услуги с фиксированной ценой.   \n",
    "\n",
    "Теперь нам нужно собрать все фреймы вместе. Сначала, объединив данные о принадлежности пользователя к группе, мы узнаем, сколько всего пользователей посетили платформу в дни проведения тестирования."
   ]
  },
  {
   "cell_type": "code",
   "execution_count": 5,
   "metadata": {},
   "outputs": [],
   "source": [
    "groups = pd.concat([group, groups_add]).rename(columns={'grp': 'group'})"
   ]
  },
  {
   "cell_type": "code",
   "execution_count": 6,
   "metadata": {},
   "outputs": [
    {
     "name": "stdout",
     "output_type": "stream",
     "text": [
      "groups\n",
      "\n",
      "     id group\n",
      "0  1489     B\n",
      "1  1627     A\n",
      "2  1768     B\n",
      "\n",
      "<class 'pandas.core.frame.DataFrame'>\n",
      "Int64Index: 74576 entries, 0 to 91\n",
      "Data columns (total 2 columns):\n",
      " #   Column  Non-Null Count  Dtype \n",
      "---  ------  --------------  ----- \n",
      " 0   id      74576 non-null  int64 \n",
      " 1   group   74576 non-null  object\n",
      "dtypes: int64(1), object(1)\n",
      "memory usage: 1.7+ MB\n",
      "None\n",
      "\n",
      "Количество уникальных значений:  id       74576\n",
      "group        2\n",
      "dtype: int64\n",
      "Количество дубликатов:  0\n",
      "Количество пропусков:  id       0\n",
      "group    0\n",
      "dtype: int64\n"
     ]
    }
   ],
   "source": [
    "print('groups')\n",
    "print()\n",
    "showing(groups)"
   ]
  },
  {
   "cell_type": "code",
   "execution_count": 7,
   "metadata": {
    "scrolled": true
   },
   "outputs": [
    {
     "data": {
      "text/plain": [
       "B    59883\n",
       "A    14693\n",
       "Name: group, dtype: int64"
      ]
     },
     "execution_count": 7,
     "metadata": {},
     "output_type": "execute_result"
    }
   ],
   "source": [
    "groups.group.value_counts()"
   ]
  },
  {
   "cell_type": "code",
   "execution_count": 8,
   "metadata": {},
   "outputs": [
    {
     "data": {
      "image/png": "[encoded data removed]",
      "text/plain": [
       "<Figure size 432x288 with 1 Axes>"
      ]
     },
     "metadata": {},
     "output_type": "display_data"
    }
   ],
   "source": [
    "ax = sns.barplot(x='group', y='id', data=groups.\n",
    "                 groupby('group', as_index=False)['id'].count(), palette='hls')\n",
    "ax.set_title('students')\n",
    "ax.set_ylabel('count');"
   ]
  },
  {
   "cell_type": "markdown",
   "metadata": {},
   "source": [
    "Данные из обоих датафреймов без пропусков и дубликатов, а все пользователи уникальны. В контрольной группе (А) - **14693** пользователя, в целевой (B) - **59883**.  \n",
    "\n",
    "Далее добавим информацию об активности пользователей. И через left merge добавим этот датафрейм к общему, чтобы сохранить все id из общей таблицы."
   ]
  },
  {
   "cell_type": "code",
   "execution_count": 9,
   "metadata": {},
   "outputs": [],
   "source": [
    "# добавим к этому датафрейму дополнительную колонку с 1, чтобы при объединении \n",
    "# заполнить пропуски 0 и в итоге получить колонку статуса с бинарными значениями,\n",
    "# переименуем столбец для удобства\n",
    "active_studs['active'] = 1\n",
    "active_studs = active_studs.rename(columns={'student_id': 'id'})\n",
    "all_data = groups.merge(active_studs, on='id', how='left').fillna(0)"
   ]
  },
  {
   "cell_type": "markdown",
   "metadata": {},
   "source": [
    "То же самое проделаем с таблицей checks."
   ]
  },
  {
   "cell_type": "code",
   "execution_count": 10,
   "metadata": {},
   "outputs": [],
   "source": [
    "# После объединения у всех, кто совершил платеж будет статус - 1, у остальных будет статус - 0\n",
    "checks['pay'] = 1\n",
    "checks = checks.rename(columns={'student_id': 'id'})\n",
    "all_data = all_data.merge(checks, on='id', how='left').fillna(0)"
   ]
  },
  {
   "cell_type": "code",
   "execution_count": 11,
   "metadata": {},
   "outputs": [
    {
     "name": "stdout",
     "output_type": "stream",
     "text": [
      "<class 'pandas.core.frame.DataFrame'>\n",
      "Int64Index: 74576 entries, 0 to 74575\n",
      "Data columns (total 5 columns):\n",
      " #   Column  Non-Null Count  Dtype  \n",
      "---  ------  --------------  -----  \n",
      " 0   id      74576 non-null  int64  \n",
      " 1   group   74576 non-null  object \n",
      " 2   active  74576 non-null  float64\n",
      " 3   rev     74576 non-null  float64\n",
      " 4   pay     74576 non-null  float64\n",
      "dtypes: float64(3), int64(1), object(1)\n",
      "memory usage: 3.4+ MB\n"
     ]
    }
   ],
   "source": [
    "all_data.info()"
   ]
  },
  {
   "cell_type": "code",
   "execution_count": 12,
   "metadata": {},
   "outputs": [
    {
     "data": {
      "text/html": [
       "<div>\n",
       "<style scoped>\n",
       "    .dataframe tbody tr th:only-of-type {\n",
       "        vertical-align: middle;\n",
       "    }\n",
       "\n",
       "    .dataframe tbody tr th {\n",
       "        vertical-align: top;\n",
       "    }\n",
       "\n",
       "    .dataframe thead th {\n",
       "        text-align: right;\n",
       "    }\n",
       "</style>\n",
       "<table border=\"1\" class=\"dataframe\">\n",
       "  <thead>\n",
       "    <tr style=\"text-align: right;\">\n",
       "      <th></th>\n",
       "      <th>id</th>\n",
       "      <th>group</th>\n",
       "      <th>active</th>\n",
       "      <th>rev</th>\n",
       "      <th>pay</th>\n",
       "    </tr>\n",
       "  </thead>\n",
       "  <tbody>\n",
       "    <tr>\n",
       "      <th>0</th>\n",
       "      <td>1489</td>\n",
       "      <td>B</td>\n",
       "      <td>0.0</td>\n",
       "      <td>0.0</td>\n",
       "      <td>0.0</td>\n",
       "    </tr>\n",
       "    <tr>\n",
       "      <th>1</th>\n",
       "      <td>1627</td>\n",
       "      <td>A</td>\n",
       "      <td>1.0</td>\n",
       "      <td>990.0</td>\n",
       "      <td>1.0</td>\n",
       "    </tr>\n",
       "    <tr>\n",
       "      <th>2</th>\n",
       "      <td>1768</td>\n",
       "      <td>B</td>\n",
       "      <td>0.0</td>\n",
       "      <td>0.0</td>\n",
       "      <td>0.0</td>\n",
       "    </tr>\n",
       "    <tr>\n",
       "      <th>3</th>\n",
       "      <td>1783</td>\n",
       "      <td>B</td>\n",
       "      <td>0.0</td>\n",
       "      <td>0.0</td>\n",
       "      <td>0.0</td>\n",
       "    </tr>\n",
       "    <tr>\n",
       "      <th>4</th>\n",
       "      <td>1794</td>\n",
       "      <td>A</td>\n",
       "      <td>0.0</td>\n",
       "      <td>0.0</td>\n",
       "      <td>0.0</td>\n",
       "    </tr>\n",
       "  </tbody>\n",
       "</table>\n",
       "</div>"
      ],
      "text/plain": [
       "     id group  active    rev  pay\n",
       "0  1489     B     0.0    0.0  0.0\n",
       "1  1627     A     1.0  990.0  1.0\n",
       "2  1768     B     0.0    0.0  0.0\n",
       "3  1783     B     0.0    0.0  0.0\n",
       "4  1794     A     0.0    0.0  0.0"
      ]
     },
     "execution_count": 12,
     "metadata": {},
     "output_type": "execute_result"
    }
   ],
   "source": [
    "all_data.head()"
   ]
  },
  {
   "cell_type": "code",
   "execution_count": 13,
   "metadata": {},
   "outputs": [
    {
     "data": {
      "text/plain": [
       "1.0    392\n",
       "0.0    149\n",
       "Name: active, dtype: int64"
      ]
     },
     "execution_count": 13,
     "metadata": {},
     "output_type": "execute_result"
    }
   ],
   "source": [
    "all_data.query('rev > 0').active.value_counts()"
   ]
  },
  {
   "cell_type": "markdown",
   "metadata": {},
   "source": [
    "Если смотреть на распределение пользователей, совершивших оплату, можно обратить внимание, что часть пользователей, совершивших оплату в дни эксперимента, на платформу не заходила. Это как минимум странно, но такое возможно, например, при автопродлении подписки/истечении пробного периода.  \n",
    "\n",
    "Так как нам нужно решить, стоит ли запускать новую механику на всех пользователей и проанализировать итоги эксперимента, нас интересуют только те пользователи, которые посещали платформу в дни эксперимента.  \n",
    "\n",
    "Основной задечей любого бизнеса является увеличение дохода, поэтому мы тестируем новую механику оплаты. И использовать будем такие метрики, как:\n",
    "\n",
    "* **ARPPU** (средний чек) - средняя выручка на платящего пользователя\n",
    "* **CR** - конверсия в покупку  \n",
    "\n",
    "Для других метрик данных недостаточно."
   ]
  },
  {
   "cell_type": "code",
   "execution_count": 14,
   "metadata": {},
   "outputs": [],
   "source": [
    "df = all_data.query('active == 1')"
   ]
  },
  {
   "cell_type": "code",
   "execution_count": 15,
   "metadata": {},
   "outputs": [
    {
     "data": {
      "image/png": "[encoded data removed]",
      "text/plain": [
       "<Figure size 432x288 with 1 Axes>"
      ]
     },
     "metadata": {},
     "output_type": "display_data"
    }
   ],
   "source": [
    "ax = sns.barplot(x='group', y='id', data=df.groupby('group', as_index=False)['id'].count(), palette='hls')\n",
    "ax.set_title('students')\n",
    "ax.set_ylabel('count');"
   ]
  },
  {
   "cell_type": "markdown",
   "metadata": {},
   "source": [
    "Количество студентов в тестовой и контрольной группах сильно различается."
   ]
  },
  {
   "cell_type": "markdown",
   "metadata": {},
   "source": [
    "#### ARPPU"
   ]
  },
  {
   "cell_type": "code",
   "execution_count": 16,
   "metadata": {},
   "outputs": [
    {
     "data": {
      "text/html": [
       "<div>\n",
       "<style scoped>\n",
       "    .dataframe tbody tr th:only-of-type {\n",
       "        vertical-align: middle;\n",
       "    }\n",
       "\n",
       "    .dataframe tbody tr th {\n",
       "        vertical-align: top;\n",
       "    }\n",
       "\n",
       "    .dataframe thead th {\n",
       "        text-align: right;\n",
       "    }\n",
       "</style>\n",
       "<table border=\"1\" class=\"dataframe\">\n",
       "  <thead>\n",
       "    <tr style=\"text-align: right;\">\n",
       "      <th></th>\n",
       "      <th>group</th>\n",
       "      <th>ARPPU</th>\n",
       "    </tr>\n",
       "  </thead>\n",
       "  <tbody>\n",
       "    <tr>\n",
       "      <th>0</th>\n",
       "      <td>A</td>\n",
       "      <td>933.589744</td>\n",
       "    </tr>\n",
       "    <tr>\n",
       "      <th>1</th>\n",
       "      <td>B</td>\n",
       "      <td>1257.878992</td>\n",
       "    </tr>\n",
       "  </tbody>\n",
       "</table>\n",
       "</div>"
      ],
      "text/plain": [
       "  group        ARPPU\n",
       "0     A   933.589744\n",
       "1     B  1257.878992"
      ]
     },
     "execution_count": 16,
     "metadata": {},
     "output_type": "execute_result"
    }
   ],
   "source": [
    "arppu = df.query('rev > 0') \\\n",
    "    .groupby('group', as_index=False) \\\n",
    "    .agg({'rev': 'mean'}) \\\n",
    "    .rename(columns={'rev': 'ARPPU'})\n",
    "arppu"
   ]
  },
  {
   "cell_type": "code",
   "execution_count": 17,
   "metadata": {
    "scrolled": true
   },
   "outputs": [
    {
     "data": {
      "image/png": "[encoded data removed]",
      "text/plain": [
       "<Figure size 432x288 with 1 Axes>"
      ]
     },
     "metadata": {},
     "output_type": "display_data"
    }
   ],
   "source": [
    "ax = sns.barplot(x='group', y='ARPPU', data=arppu, palette='hls')\n",
    "ax.set_title('ARPPU');"
   ]
  },
  {
   "cell_type": "markdown",
   "metadata": {},
   "source": [
    "#### CR"
   ]
  },
  {
   "cell_type": "code",
   "execution_count": 18,
   "metadata": {},
   "outputs": [
    {
     "data": {
      "text/html": [
       "<div>\n",
       "<style scoped>\n",
       "    .dataframe tbody tr th:only-of-type {\n",
       "        vertical-align: middle;\n",
       "    }\n",
       "\n",
       "    .dataframe tbody tr th {\n",
       "        vertical-align: top;\n",
       "    }\n",
       "\n",
       "    .dataframe thead th {\n",
       "        text-align: right;\n",
       "    }\n",
       "</style>\n",
       "<table border=\"1\" class=\"dataframe\">\n",
       "  <thead>\n",
       "    <tr style=\"text-align: right;\">\n",
       "      <th></th>\n",
       "      <th>group</th>\n",
       "      <th>CR</th>\n",
       "    </tr>\n",
       "  </thead>\n",
       "  <tbody>\n",
       "    <tr>\n",
       "      <th>0</th>\n",
       "      <td>A</td>\n",
       "      <td>5.071521</td>\n",
       "    </tr>\n",
       "    <tr>\n",
       "      <th>1</th>\n",
       "      <td>B</td>\n",
       "      <td>4.615611</td>\n",
       "    </tr>\n",
       "  </tbody>\n",
       "</table>\n",
       "</div>"
      ],
      "text/plain": [
       "  group        CR\n",
       "0     A  5.071521\n",
       "1     B  4.615611"
      ]
     },
     "execution_count": 18,
     "metadata": {},
     "output_type": "execute_result"
    }
   ],
   "source": [
    "cr = df.groupby('group', as_index=False) \\\n",
    "    .agg({'id': 'count', 'pay': 'sum'}) \\\n",
    "    .rename(columns={'id': 'id_count', 'pay': 'pay_count'})\n",
    "\n",
    "cr['CR'] = cr.pay_count / cr.id_count * 100\n",
    "cr = cr[['group', 'CR']]\n",
    "cr"
   ]
  },
  {
   "cell_type": "code",
   "execution_count": 19,
   "metadata": {},
   "outputs": [
    {
     "data": {
      "image/png": "[encoded data removed]",
      "text/plain": [
       "<Figure size 432x288 with 1 Axes>"
      ]
     },
     "metadata": {},
     "output_type": "display_data"
    }
   ],
   "source": [
    "ax = sns.barplot(x='group', y='CR', data=cr, palette='hls')\n",
    "ax.set_title('CR');"
   ]
  },
  {
   "cell_type": "markdown",
   "metadata": {},
   "source": [
    "По графикам видим, что ARPPU в тестовой группе показали хороший результат - выше, чем в контрольной группе, но конверсия в тестовой группе ниже, чем в контрольной.  \n",
    "\n",
    "Необходимо проверить статистическую значимость полученных результатов. Для этого посмотрим на распределение данных."
   ]
  },
  {
   "cell_type": "code",
   "execution_count": 20,
   "metadata": {
    "scrolled": true
   },
   "outputs": [
    {
     "data": {
      "text/plain": [
       "<matplotlib.axes._subplots.AxesSubplot at 0x7f8446f95f60>"
      ]
     },
     "execution_count": 20,
     "metadata": {},
     "output_type": "execute_result"
    },
    {
     "data": {
      "image/png": "[encoded data removed]",
      "text/plain": [
       "<Figure size 432x288 with 1 Axes>"
      ]
     },
     "metadata": {},
     "output_type": "display_data"
    }
   ],
   "source": [
    "sns.histplot(x='rev', hue='group', data=df.query('rev > 0'), kde=True, palette='hls')"
   ]
  },
  {
   "cell_type": "code",
   "execution_count": 21,
   "metadata": {},
   "outputs": [
    {
     "data": {
      "image/png": "[encoded data removed]",
      "text/plain": [
       "<Figure size 432x288 with 1 Axes>"
      ]
     },
     "metadata": {},
     "output_type": "display_data"
    }
   ],
   "source": [
    "sns.boxplot(x='group', y='rev', data=df.query('rev > 0'), palette='hls');"
   ]
  },
  {
   "cell_type": "code",
   "execution_count": 22,
   "metadata": {},
   "outputs": [
    {
     "data": {
      "text/html": [
       "<div>\n",
       "<style scoped>\n",
       "    .dataframe tbody tr th:only-of-type {\n",
       "        vertical-align: middle;\n",
       "    }\n",
       "\n",
       "    .dataframe tbody tr th {\n",
       "        vertical-align: top;\n",
       "    }\n",
       "\n",
       "    .dataframe thead th {\n",
       "        text-align: right;\n",
       "    }\n",
       "</style>\n",
       "<table border=\"1\" class=\"dataframe\">\n",
       "  <thead>\n",
       "    <tr style=\"text-align: right;\">\n",
       "      <th>group</th>\n",
       "      <th>A</th>\n",
       "      <th>B</th>\n",
       "    </tr>\n",
       "    <tr>\n",
       "      <th>rev</th>\n",
       "      <th></th>\n",
       "      <th></th>\n",
       "    </tr>\n",
       "  </thead>\n",
       "  <tbody>\n",
       "    <tr>\n",
       "      <th>1900.0000</th>\n",
       "      <td>0</td>\n",
       "      <td>93</td>\n",
       "    </tr>\n",
       "    <tr>\n",
       "      <th>290.0000</th>\n",
       "      <td>25</td>\n",
       "      <td>45</td>\n",
       "    </tr>\n",
       "    <tr>\n",
       "      <th>1900.0001</th>\n",
       "      <td>0</td>\n",
       "      <td>35</td>\n",
       "    </tr>\n",
       "    <tr>\n",
       "      <th>199.0000</th>\n",
       "      <td>5</td>\n",
       "      <td>27</td>\n",
       "    </tr>\n",
       "    <tr>\n",
       "      <th>840.0000</th>\n",
       "      <td>3</td>\n",
       "      <td>21</td>\n",
       "    </tr>\n",
       "  </tbody>\n",
       "</table>\n",
       "</div>"
      ],
      "text/plain": [
       "group       A   B\n",
       "rev              \n",
       "1900.0000   0  93\n",
       "290.0000   25  45\n",
       "1900.0001   0  35\n",
       "199.0000    5  27\n",
       "840.0000    3  21"
      ]
     },
     "execution_count": 22,
     "metadata": {},
     "output_type": "execute_result"
    }
   ],
   "source": [
    "pd.pivot_table(df.query('rev > 0'),\n",
    "               values='id',\n",
    "               index='rev',\n",
    "               columns='group',\n",
    "               aggfunc='count',\n",
    "               fill_value=0).sort_values('B', ascending=False).head()"
   ]
  },
  {
   "cell_type": "markdown",
   "metadata": {},
   "source": [
    "Видим явно ненормальное распределение. Оплаты на сумму 1900 и 1900,0001 производились только в тестовой группе. Возможно, так и проявляется наша новая механика оплаты. Но мы можем только предполагать, запустили ли для тестовой группы новый продукт, либо это какая-то акция/расширенная подписка. Остальные различия в распределении платежей несущественны и обусловлены разными размерами выборок. Так же имеются выбросы, но их мы удалять не будем."
   ]
  },
  {
   "cell_type": "markdown",
   "metadata": {},
   "source": [
    "## Проверга гипотез"
   ]
  },
  {
   "cell_type": "markdown",
   "metadata": {},
   "source": [
    "Проверка гипотез о нормальности будет лишней (достаточно гистограммы); проверим однородности групповых дисперсий с помощью теста Левена:  \n",
    "* Н0 : дисперсии в группах не различаются\n",
    "* Н1 : дисперсии в группах различаются"
   ]
  },
  {
   "cell_type": "code",
   "execution_count": 23,
   "metadata": {},
   "outputs": [],
   "source": [
    "group_A = df.query('rev > 0 & group == \"A\"').rev\n",
    "group_B = df.query('rev > 0 & group == \"B\"').rev"
   ]
  },
  {
   "cell_type": "code",
   "execution_count": 24,
   "metadata": {
    "scrolled": false
   },
   "outputs": [
    {
     "name": "stdout",
     "output_type": "stream",
     "text": [
      "Statistics=3.076, p=0.080\n",
      "Не отклоняем H0, дисперсии в группах не различаются\n"
     ]
    }
   ],
   "source": [
    "stat, p = stats.levene(group_A, group_B)\n",
    "print('Statistics=%.3f, p=%.3f' % (stat, p))\n",
    "\n",
    "prob = 0.95\n",
    "alpha = 1.0 - prob\n",
    "if p <= alpha:\n",
    "    print('Отклоняем H0, дисперсии в группах различаются')\n",
    "else:\n",
    "    print('Не отклоняем H0, дисперсии в группах не различаются')"
   ]
  },
  {
   "cell_type": "markdown",
   "metadata": {},
   "source": [
    "Проверим, есть ли различия в двух группах по ARPPU (средняя выручка на платящего пользователя), применив Т-тест, ведь он прост, быстр и у нас соблюдено требование о гомогенности дисперсий.\n",
    "* Н0: нет различий по ARPPU\n",
    "* Н1: есть различия по ARPPU"
   ]
  },
  {
   "cell_type": "code",
   "execution_count": 25,
   "metadata": {},
   "outputs": [
    {
     "data": {
      "text/plain": [
       "Ttest_indResult(statistic=-3.1337795050930985, pvalue=0.0018562025265765867)"
      ]
     },
     "execution_count": 25,
     "metadata": {},
     "output_type": "execute_result"
    }
   ],
   "source": [
    "ttest_ind(group_A, group_B)"
   ]
  },
  {
   "cell_type": "markdown",
   "metadata": {},
   "source": [
    "Результат: p-value < 0.05 - принимаем альтернативную гипотезу, различия по ARPPU между группами A и B есть (эксперимент повлиял на ARPPU).  \n",
    "\n",
    "Для проверги гипотезы о зависимости между группой и совершением оплаты применим Хи-квадрат, т.к. данные категориальные.\n",
    "* H0: нет зависимости между группой и совершением оплаты\n",
    "* H1: есть зависимость между группой и совершением оплаты"
   ]
  },
  {
   "cell_type": "code",
   "execution_count": 26,
   "metadata": {},
   "outputs": [
    {
     "data": {
      "text/html": [
       "<div>\n",
       "<style scoped>\n",
       "    .dataframe tbody tr th:only-of-type {\n",
       "        vertical-align: middle;\n",
       "    }\n",
       "\n",
       "    .dataframe tbody tr th {\n",
       "        vertical-align: top;\n",
       "    }\n",
       "\n",
       "    .dataframe thead th {\n",
       "        text-align: right;\n",
       "    }\n",
       "</style>\n",
       "<table border=\"1\" class=\"dataframe\">\n",
       "  <thead>\n",
       "    <tr style=\"text-align: right;\">\n",
       "      <th>pay</th>\n",
       "      <th>0.0</th>\n",
       "      <th>1.0</th>\n",
       "    </tr>\n",
       "    <tr>\n",
       "      <th>group</th>\n",
       "      <th></th>\n",
       "      <th></th>\n",
       "    </tr>\n",
       "  </thead>\n",
       "  <tbody>\n",
       "    <tr>\n",
       "      <th>A</th>\n",
       "      <td>1460</td>\n",
       "      <td>78</td>\n",
       "    </tr>\n",
       "    <tr>\n",
       "      <th>B</th>\n",
       "      <td>6489</td>\n",
       "      <td>314</td>\n",
       "    </tr>\n",
       "  </tbody>\n",
       "</table>\n",
       "</div>"
      ],
      "text/plain": [
       "pay     0.0  1.0\n",
       "group           \n",
       "A      1460   78\n",
       "B      6489  314"
      ]
     },
     "execution_count": 26,
     "metadata": {},
     "output_type": "execute_result"
    }
   ],
   "source": [
    "crosstab = pd.crosstab(df.query('active == 1')['group'], df.query('active == 1')['pay'])\n",
    "crosstab"
   ]
  },
  {
   "cell_type": "code",
   "execution_count": 27,
   "metadata": {},
   "outputs": [
    {
     "name": "stdout",
     "output_type": "stream",
     "text": [
      "0.48625240457231045\n",
      "Не отклоняем H0, различий по CR между группами A и B нет (эксперимент на конверсию не повлиял)\n"
     ]
    }
   ],
   "source": [
    "stat, p, dof, expected = chi2_contingency(crosstab)\n",
    "print(p)\n",
    "\n",
    "prob = 0.95\n",
    "alpha = 1.0 - prob\n",
    "if p <= alpha:\n",
    "    print('Отклоняем H0, различия по CR между группами A и B есть (эксперимент повлиял на конверсию)')\n",
    "else:\n",
    "    print('Не отклоняем H0, различий по CR между группами A и B нет (эксперимент на конверсию не повлиял)')"
   ]
  },
  {
   "cell_type": "markdown",
   "metadata": {},
   "source": [
    "**Вывод:** \n",
    "\n",
    "В результате расчетов получилось, что в случае с ARPPU мы можем отклонить нулевую гипотезу о незначительности отличий средних значений выборок при заданном уровне значимости p < 0,05. В случае с CR результаты противоположные. Новую механику оплаты на всех пользователей можно запускать, если целью бизнеса является увеличение среднего чека и ARPPU, а незначительное уменьшение конверсии НЕ является критичным."
   ]
  },
  {
   "cell_type": "markdown",
   "metadata": {},
   "source": [
    "## Задание 2. SQL. Очень усердные ученики.\n",
    "\n",
    "### 2.1 Условие\n",
    "\n",
    "Образовательные курсы состоят из различных уроков, каждый из которых состоит из нескольких маленьких заданий. Каждое такое маленькое задание называется \"горошиной\".\n",
    "\n",
    "Назовём очень усердным учеником того пользователя, который хотя бы раз за текущий месяц правильно решил 20 горошин.  \n",
    "\n",
    "Необходимо написать оптимальный запрос, который даст информацию о количестве очень усердных студентов.   \n",
    "\n",
    "*NB!* Под усердным студентом мы понимаем студента, который правильно решил 20 задач за текущий месяц."
   ]
  },
  {
   "cell_type": "code",
   "execution_count": 28,
   "metadata": {},
   "outputs": [],
   "source": [
    "connection_clickhouse = {\n",
    "    'host': 'https://clickhouse.lab.karpov.courses',\n",
    "    'database': 'default',\n",
    "    'user': 'student',\n",
    "    'password': 'dpo_python_2020'}"
   ]
  },
  {
   "cell_type": "code",
   "execution_count": 29,
   "metadata": {},
   "outputs": [],
   "source": [
    "query_1 = '''\n",
    "SELECT\n",
    "    month,\n",
    "    COUNT(st_id) as students\n",
    "FROM\n",
    "    (\n",
    "    SELECT\n",
    "        st_id,\n",
    "        toStartOfMonth(timest) as month\n",
    "    FROM peas\n",
    "    WHERE\n",
    "        month = '2020-03-01' AND correct = 1\n",
    "    GROUP BY\n",
    "        st_id,\n",
    "        month\n",
    "    HAVING COUNT(correct) >= 20\n",
    "    )\n",
    "GROUP BY month\n",
    "'''"
   ]
  },
  {
   "cell_type": "code",
   "execution_count": 30,
   "metadata": {
    "scrolled": true
   },
   "outputs": [
    {
     "data": {
      "text/html": [
       "<div>\n",
       "<style scoped>\n",
       "    .dataframe tbody tr th:only-of-type {\n",
       "        vertical-align: middle;\n",
       "    }\n",
       "\n",
       "    .dataframe tbody tr th {\n",
       "        vertical-align: top;\n",
       "    }\n",
       "\n",
       "    .dataframe thead th {\n",
       "        text-align: right;\n",
       "    }\n",
       "</style>\n",
       "<table border=\"1\" class=\"dataframe\">\n",
       "  <thead>\n",
       "    <tr style=\"text-align: right;\">\n",
       "      <th></th>\n",
       "      <th>month</th>\n",
       "      <th>students</th>\n",
       "    </tr>\n",
       "  </thead>\n",
       "  <tbody>\n",
       "  </tbody>\n",
       "</table>\n",
       "</div>"
      ],
      "text/plain": [
       "Empty DataFrame\n",
       "Columns: [month, students]\n",
       "Index: []"
      ]
     },
     "execution_count": 30,
     "metadata": {},
     "output_type": "execute_result"
    }
   ],
   "source": [
    "ph.read_clickhouse(query=query_1, connection=connection_clickhouse)"
   ]
  },
  {
   "cell_type": "markdown",
   "metadata": {},
   "source": [
    "Данные в базе только за один месяц."
   ]
  },
  {
   "cell_type": "code",
   "execution_count": 31,
   "metadata": {},
   "outputs": [],
   "source": [
    "query_2 = '''\n",
    "SELECT\n",
    "    month,\n",
    "    COUNT(st_id) as students\n",
    "FROM\n",
    "    (\n",
    "    SELECT\n",
    "        st_id,\n",
    "        toStartOfMonth(timest) as month\n",
    "    FROM peas\n",
    "    WHERE correct = 1\n",
    "    GROUP BY\n",
    "        st_id,\n",
    "        month\n",
    "    HAVING COUNT(correct)>=20\n",
    "    )\n",
    "GROUP BY month\n",
    "  '''"
   ]
  },
  {
   "cell_type": "code",
   "execution_count": 32,
   "metadata": {
    "scrolled": true
   },
   "outputs": [
    {
     "data": {
      "text/html": [
       "<div>\n",
       "<style scoped>\n",
       "    .dataframe tbody tr th:only-of-type {\n",
       "        vertical-align: middle;\n",
       "    }\n",
       "\n",
       "    .dataframe tbody tr th {\n",
       "        vertical-align: top;\n",
       "    }\n",
       "\n",
       "    .dataframe thead th {\n",
       "        text-align: right;\n",
       "    }\n",
       "</style>\n",
       "<table border=\"1\" class=\"dataframe\">\n",
       "  <thead>\n",
       "    <tr style=\"text-align: right;\">\n",
       "      <th></th>\n",
       "      <th>month</th>\n",
       "      <th>students</th>\n",
       "    </tr>\n",
       "  </thead>\n",
       "  <tbody>\n",
       "    <tr>\n",
       "      <th>0</th>\n",
       "      <td>2021-10-01</td>\n",
       "      <td>136</td>\n",
       "    </tr>\n",
       "  </tbody>\n",
       "</table>\n",
       "</div>"
      ],
      "text/plain": [
       "       month  students\n",
       "0 2021-10-01       136"
      ]
     },
     "execution_count": 32,
     "metadata": {},
     "output_type": "execute_result"
    }
   ],
   "source": [
    "ph.read_clickhouse(query=query_2, connection=connection_clickhouse)"
   ]
  },
  {
   "cell_type": "markdown",
   "metadata": {},
   "source": [
    "Из этих данных получили, что 136 студентов являются усердными."
   ]
  },
  {
   "cell_type": "markdown",
   "metadata": {},
   "source": [
    "### 2.2 Оптимизация воронки\n",
    "\n",
    "#### 2.2.1 Условие\n",
    "\n",
    "Образовательная платформа предлагает пройти студентам курсы по модели trial: студент может решить бесплатно лишь 30 горошин в день. Для неограниченного количества заданий в определенной дисциплине студенту необходимо приобрести полный доступ. Команда провела эксперимент, где был протестирован новый экран оплаты.  \n",
    "\n",
    "Необходимо в одном запросе выгрузить следующую информацию о группах пользователей:\n",
    "\n",
    "* ARPU \n",
    "* ARPAU \n",
    "* CR в покупку \n",
    "* СR активного пользователя в покупку \n",
    "* CR пользователя из активности по математике (subject = ’math’) в покупку курса по математике\n",
    "* ARPU считается относительно всех пользователей, попавших в группы.  \n",
    "\n",
    "Активным считается пользователь, за все время решивший больше 10 задач правильно в любых дисциплинах.\n",
    "\n",
    "Активным по математике считается пользователь, за все время решивший 2 или больше задач правильно по математике."
   ]
  },
  {
   "cell_type": "code",
   "execution_count": 33,
   "metadata": {},
   "outputs": [
    {
     "data": {
      "text/html": [
       "<div>\n",
       "<style scoped>\n",
       "    .dataframe tbody tr th:only-of-type {\n",
       "        vertical-align: middle;\n",
       "    }\n",
       "\n",
       "    .dataframe tbody tr th {\n",
       "        vertical-align: top;\n",
       "    }\n",
       "\n",
       "    .dataframe thead th {\n",
       "        text-align: right;\n",
       "    }\n",
       "</style>\n",
       "<table border=\"1\" class=\"dataframe\">\n",
       "  <thead>\n",
       "    <tr style=\"text-align: right;\">\n",
       "      <th></th>\n",
       "      <th>group</th>\n",
       "      <th>ARPU</th>\n",
       "      <th>ARPAU</th>\n",
       "      <th>CR</th>\n",
       "      <th>CR_active</th>\n",
       "      <th>CR_math</th>\n",
       "    </tr>\n",
       "  </thead>\n",
       "  <tbody>\n",
       "    <tr>\n",
       "      <th>0</th>\n",
       "      <td>control</td>\n",
       "      <td>4540.98</td>\n",
       "      <td>10393.70</td>\n",
       "      <td>4.92</td>\n",
       "      <td>11.02</td>\n",
       "      <td>6.12</td>\n",
       "    </tr>\n",
       "    <tr>\n",
       "      <th>1</th>\n",
       "      <td>pilot</td>\n",
       "      <td>11508.47</td>\n",
       "      <td>29739.58</td>\n",
       "      <td>10.85</td>\n",
       "      <td>26.04</td>\n",
       "      <td>9.52</td>\n",
       "    </tr>\n",
       "  </tbody>\n",
       "</table>\n",
       "</div>"
      ],
      "text/plain": [
       "     group      ARPU     ARPAU     CR  CR_active  CR_math\n",
       "0  control   4540.98  10393.70   4.92      11.02     6.12\n",
       "1    pilot  11508.47  29739.58  10.85      26.04     9.52"
      ]
     },
     "execution_count": 33,
     "metadata": {},
     "output_type": "execute_result"
    }
   ],
   "source": [
    "metrics = '''\n",
    "SELECT\n",
    "    studs.test_grp AS group,\n",
    "    round(SUM(money)/count(distinct(studs.st_id)),2) AS ARPU,\n",
    "    round(sumIf(money, total_peas>10)/uniqIf(studs.st_id, total_peas>10),2) AS ARPAU,\n",
    "    round(uniqIf(studs.st_id, money>0)/count(distinct(studs.st_id)) * 100, 2) AS CR,\n",
    "    round(uniqIf(studs.st_id, money>0 and total_peas>10)/\n",
    "        uniqIf(studs.st_id, total_peas>10) * 100, 2) AS CR_active,\n",
    "    round(uniqIf(studs.st_id, money>0 and total_peas_math>=2 and subject='Math')/\n",
    "        uniqIf(studs.st_id, total_peas_math>=2) * 100, 2) AS CR_math\n",
    "FROM default.studs\n",
    "LEFT JOIN \n",
    "    default.final_project_check\n",
    "ON \n",
    "    final_project_check.st_id=studs.st_id\n",
    "LEFT JOIN \n",
    "    (SELECT\n",
    "        st_id,\n",
    "        sum(correct) AS total_peas,\n",
    "        sumIf(correct, subject='Math') AS total_peas_math\n",
    "    FROM\n",
    "        default.peas\n",
    "    GROUP BY st_id) AS peas\n",
    "ON\n",
    "    studs.st_id=peas.st_id\n",
    "GROUP BY group\n",
    "'''\n",
    "\n",
    "ph.read_clickhouse(query=metrics, connection=connection_clickhouse)"
   ]
  },
  {
   "cell_type": "markdown",
   "metadata": {},
   "source": [
    "## Задание 3. Python\n",
    "### 3.1 Задача\n",
    "\n",
    "#### Реализуйте функцию, которая будет автоматически подгружать информацию из дополнительного файла groups_add.csv (заголовки могут отличаться) и на основании дополнительных параметров пересчитывать метрики."
   ]
  },
  {
   "cell_type": "code",
   "execution_count": 34,
   "metadata": {},
   "outputs": [],
   "source": [
    "def get_info(group, groups_add, active_studs, checks):\n",
    "    # загружаю данные\n",
    "    group = pd.read_csv('~/ilina_ira/groups.csv', sep=';')\n",
    "    groups_add = pd.read_csv('~/ilina_ira/group_add.csv')\n",
    "    active_studs = pd.read_csv('~/ilina_ira/active_studs.csv')\n",
    "    checks = pd.read_csv('~/ilina_ira/checks.csv', sep=';')\n",
    "    # переименовываю заголовки, т.к. они могут отличаться и объединяем датасеты\n",
    "    groups = pd.concat([group, groups_add]).rename(columns={'grp': 'group'})\n",
    "    active_studs['active'] = 1\n",
    "    active_studs = active_studs.rename(columns={'student_id': 'id'})\n",
    "    checks['pay'] = 1\n",
    "    checks = checks.rename(columns={'student_id': 'id'})\n",
    "    all_data = groups.merge(active_studs, on='id', how='left').fillna(0)\\\n",
    "                     .merge(checks, on='id', how='left').fillna(0)\n",
    "    # отбираем активных пользователей\n",
    "    df = all_data.query('active == 1')\n",
    "    \n",
    "    metrics = df.groupby('group', as_index=False) \\\n",
    "        .agg({'id': 'count', 'pay': ['sum', 'mean'], 'rev': ['sum', 'mean']})\n",
    "    \n",
    "    metrics.columns = ['group', 'students', 'checks', 'CR', 'rev', 'ARPPU']\n",
    "    metrics['CR'] = metrics['CR'] * 100\n",
    "    metrics['ARPPU'] = metrics['rev'] / metrics['checks']\n",
    "    metrics['ARPU'] = metrics['rev'] / metrics['students']\n",
    "    \n",
    "    return metrics[['group', 'CR', 'ARPU', 'ARPPU']]"
   ]
  },
  {
   "cell_type": "code",
   "execution_count": 35,
   "metadata": {
    "scrolled": false
   },
   "outputs": [
    {
     "data": {
      "text/html": [
       "<div>\n",
       "<style scoped>\n",
       "    .dataframe tbody tr th:only-of-type {\n",
       "        vertical-align: middle;\n",
       "    }\n",
       "\n",
       "    .dataframe tbody tr th {\n",
       "        vertical-align: top;\n",
       "    }\n",
       "\n",
       "    .dataframe thead th {\n",
       "        text-align: right;\n",
       "    }\n",
       "</style>\n",
       "<table border=\"1\" class=\"dataframe\">\n",
       "  <thead>\n",
       "    <tr style=\"text-align: right;\">\n",
       "      <th></th>\n",
       "      <th>group</th>\n",
       "      <th>CR</th>\n",
       "      <th>ARPU</th>\n",
       "      <th>ARPPU</th>\n",
       "    </tr>\n",
       "  </thead>\n",
       "  <tbody>\n",
       "    <tr>\n",
       "      <th>0</th>\n",
       "      <td>A</td>\n",
       "      <td>5.071521</td>\n",
       "      <td>47.347204</td>\n",
       "      <td>933.589744</td>\n",
       "    </tr>\n",
       "    <tr>\n",
       "      <th>1</th>\n",
       "      <td>B</td>\n",
       "      <td>4.615611</td>\n",
       "      <td>58.058798</td>\n",
       "      <td>1257.878992</td>\n",
       "    </tr>\n",
       "  </tbody>\n",
       "</table>\n",
       "</div>"
      ],
      "text/plain": [
       "  group        CR       ARPU        ARPPU\n",
       "0     A  5.071521  47.347204   933.589744\n",
       "1     B  4.615611  58.058798  1257.878992"
      ]
     },
     "execution_count": 35,
     "metadata": {},
     "output_type": "execute_result"
    }
   ],
   "source": [
    "all_metrics = get_info(group, groups_add, active_studs, checks)\n",
    "all_metrics"
   ]
  },
  {
   "cell_type": "markdown",
   "metadata": {},
   "source": [
    "#### Реализуйте функцию, которая будет строить графики по получаемым метрикам."
   ]
  },
  {
   "cell_type": "code",
   "execution_count": 36,
   "metadata": {},
   "outputs": [],
   "source": [
    "def plotting(df):\n",
    "    f, (ax1, ax2, ax3) = plt.subplots(ncols=3, figsize=(12, 4))\n",
    "    \n",
    "    sns.barplot(x=all_metrics.group, y=all_metrics.ARPPU, palette=\"hls\", ax=ax3)   \n",
    "    ax3.set_title('ARPPU')\n",
    "    ax3.set_ylabel('')\n",
    "    ax3.set_xlabel('group')\n",
    "    \n",
    "    sns.barplot(x=all_metrics.group, y=all_metrics.ARPU, palette=\"hls\", ax=ax2)   \n",
    "    ax2.set_title('ARPU')\n",
    "    ax2.set_ylabel('')\n",
    "    ax2.set_xlabel('group')\n",
    "    \n",
    "    sns.barplot(x=all_metrics.group, y=all_metrics.CR, palette=\"hls\", ax=ax1)\n",
    "    ax1.set_title(\"CR\")\n",
    "    ax1.set_ylabel('')\n",
    "    ax1.set_xlabel('group')"
   ]
  },
  {
   "cell_type": "code",
   "execution_count": 37,
   "metadata": {},
   "outputs": [
    {
     "data": {
      "image/png": "[encoded data removed]",
      "text/plain": [
       "<Figure size 864x288 with 3 Axes>"
      ]
     },
     "metadata": {},
     "output_type": "display_data"
    }
   ],
   "source": [
    " plotting(all_metrics)"
   ]
  }
 ],
 "metadata": {
  "kernelspec": {
   "display_name": "Python 3",
   "language": "python",
   "name": "python3"
  },
  "language_info": {
   "codemirror_mode": {
    "name": "ipython",
    "version": 3
   },
   "file_extension": ".py",
   "mimetype": "text/x-python",
   "name": "python",
   "nbconvert_exporter": "python",
   "pygments_lexer": "ipython3",
   "version": "3.7.3"
  }
 },
 "nbformat": 4,
 "nbformat_minor": 4
}
